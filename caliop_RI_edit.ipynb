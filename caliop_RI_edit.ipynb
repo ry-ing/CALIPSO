{
 "cells": [
  {
   "cell_type": "code",
   "execution_count": 1,
   "id": "52ed3571",
   "metadata": {},
   "outputs": [],
   "source": [
    "import numpy as np\n",
    "import numpy.ma as ma\n",
    "\n",
    "from pyhdf.SD import SD,SDC\n",
    "\n",
    "import matplotlib.pyplot as plt\n",
    "import cartopy.crs as ccrs"
   ]
  },
  {
   "cell_type": "code",
   "execution_count": 2,
   "id": "15f08cb5",
   "metadata": {},
   "outputs": [],
   "source": [
    "pname = 'CAL_LID_L2_05kmCPro-Standard-V4-21.2021-04-30T23-43-28ZN.hdf' #temperature profile\n",
    "vname = 'CAL_LID_L2_VFM-ValStage1-V3-41.2021-04-30T23-43-28ZN.hdf' #vertical feature mask"
   ]
  },
  {
   "cell_type": "code",
   "execution_count": 3,
   "id": "baec644e",
   "metadata": {},
   "outputs": [],
   "source": [
    "pfile = SD(pname,SDC.READ)\n",
    "vfile = SD(vname,SDC.READ)"
   ]
  },
  {
   "cell_type": "code",
   "execution_count": 4,
   "id": "087117c4",
   "metadata": {},
   "outputs": [
    {
     "data": {
      "text/plain": [
       "{'Profile_ID': (('fakeDim0', 'fakeDim1'), (3712, 2), 24, 0),\n",
       " 'Latitude': (('fakeDim2', 'fakeDim3'), (3712, 3), 5, 1),\n",
       " 'Longitude': (('fakeDim4', 'fakeDim5'), (3712, 3), 5, 2),\n",
       " 'Profile_Time': (('fakeDim6', 'fakeDim7'), (3712, 3), 6, 3),\n",
       " 'Profile_UTC_Time': (('fakeDim8', 'fakeDim9'), (3712, 3), 6, 4),\n",
       " 'Day_Night_Flag': (('fakeDim10', 'fakeDim11'), (3712, 1), 20, 5),\n",
       " 'Minimum_Laser_Energy_532': (('fakeDim12', 'fakeDim13'), (3712, 1), 5, 6),\n",
       " 'Column_Optical_Depth_Cloud_532': (('fakeDim14', 'fakeDim15'),\n",
       "  (3712, 1),\n",
       "  5,\n",
       "  7),\n",
       " 'Column_Optical_Depth_Cloud_Uncertainty_532': (('fakeDim16', 'fakeDim17'),\n",
       "  (3712, 1),\n",
       "  5,\n",
       "  8),\n",
       " 'Column_Optical_Depth_Tropospheric_Aerosols_532': (('fakeDim18', 'fakeDim19'),\n",
       "  (3712, 1),\n",
       "  5,\n",
       "  9),\n",
       " 'Column_Optical_Depth_Tropospheric_Aerosols_Uncertainty_532': (('fakeDim20',\n",
       "   'fakeDim21'),\n",
       "  (3712, 1),\n",
       "  5,\n",
       "  10),\n",
       " 'Column_Optical_Depth_Stratospheric_Aerosols_532': (('fakeDim22',\n",
       "   'fakeDim23'),\n",
       "  (3712, 1),\n",
       "  5,\n",
       "  11),\n",
       " 'Column_Optical_Depth_Stratospheric_Aerosols_Uncertainty_532': (('fakeDim24',\n",
       "   'fakeDim25'),\n",
       "  (3712, 1),\n",
       "  5,\n",
       "  12),\n",
       " 'Column_Optical_Depth_Tropospheric_Aerosols_1064': (('fakeDim26',\n",
       "   'fakeDim27'),\n",
       "  (3712, 1),\n",
       "  5,\n",
       "  13),\n",
       " 'Column_Optical_Depth_Tropospheric_Aerosols_Uncertainty_1064': (('fakeDim28',\n",
       "   'fakeDim29'),\n",
       "  (3712, 1),\n",
       "  5,\n",
       "  14),\n",
       " 'Column_Optical_Depth_Stratospheric_Aerosols_1064': (('fakeDim30',\n",
       "   'fakeDim31'),\n",
       "  (3712, 1),\n",
       "  5,\n",
       "  15),\n",
       " 'Column_Optical_Depth_Stratospheric_Aerosols_Uncertainty_1064': (('fakeDim32',\n",
       "   'fakeDim33'),\n",
       "  (3712, 1),\n",
       "  5,\n",
       "  16),\n",
       " 'Column_Feature_Fraction': (('fakeDim34', 'fakeDim35'), (3712, 1), 5, 17),\n",
       " 'Column_Integrated_Attenuated_Backscatter_532': (('fakeDim36', 'fakeDim37'),\n",
       "  (3712, 1),\n",
       "  5,\n",
       "  18),\n",
       " 'Column_IAB_Cumulative_Probability': (('fakeDim38', 'fakeDim39'),\n",
       "  (3712, 1),\n",
       "  5,\n",
       "  19),\n",
       " 'Tropopause_Height': (('fakeDim40', 'fakeDim41'), (3712, 1), 5, 20),\n",
       " 'Tropopause_Temperature': (('fakeDim42', 'fakeDim43'), (3712, 1), 5, 21),\n",
       " 'Temperature': (('fakeDim44', 'fakeDim45'), (3712, 399), 5, 22),\n",
       " 'Pressure': (('fakeDim46', 'fakeDim47'), (3712, 399), 5, 23),\n",
       " 'Molecular_Number_Density': (('fakeDim48', 'fakeDim49'), (3712, 399), 5, 24),\n",
       " 'Ozone_Number_Density': (('fakeDim50', 'fakeDim51'), (3712, 399), 5, 25),\n",
       " 'Relative_Humidity': (('fakeDim52', 'fakeDim53'), (3712, 399), 5, 26),\n",
       " 'IGBP_Surface_Type': (('fakeDim54', 'fakeDim55'), (3712, 1), 20, 27),\n",
       " 'Surface_Elevation_Statistics': (('fakeDim56', 'fakeDim57'),\n",
       "  (3712, 4),\n",
       "  5,\n",
       "  28),\n",
       " 'Surface_Winds': (('fakeDim58', 'fakeDim59'), (3712, 2), 5, 29),\n",
       " 'Samples_Averaged': (('fakeDim60', 'fakeDim61'), (3712, 399), 22, 30),\n",
       " 'Aerosol_Layer_Fraction': (('fakeDim62', 'fakeDim63'), (3712, 399), 21, 31),\n",
       " 'Cloud_Layer_Fraction': (('fakeDim64', 'fakeDim65'), (3712, 399), 21, 32),\n",
       " 'Atmospheric_Volume_Description': (('fakeDim66', 'fakeDim67', 'fakeDim68'),\n",
       "  (3712, 399, 2),\n",
       "  23,\n",
       "  33),\n",
       " 'Extinction_QC_Flag_532': (('fakeDim69', 'fakeDim70', 'fakeDim71'),\n",
       "  (3712, 399, 2),\n",
       "  23,\n",
       "  34),\n",
       " 'CAD_Score': (('fakeDim72', 'fakeDim73', 'fakeDim74'),\n",
       "  (3712, 399, 2),\n",
       "  20,\n",
       "  35),\n",
       " 'Total_Backscatter_Coefficient_532': (('fakeDim75', 'fakeDim76'),\n",
       "  (3712, 399),\n",
       "  5,\n",
       "  36),\n",
       " 'Total_Backscatter_Coefficient_Uncertainty_532': (('fakeDim77', 'fakeDim78'),\n",
       "  (3712, 399),\n",
       "  5,\n",
       "  37),\n",
       " 'Perpendicular_Backscatter_Coefficient_532': (('fakeDim79', 'fakeDim80'),\n",
       "  (3712, 399),\n",
       "  5,\n",
       "  38),\n",
       " 'Perpendicular_Backscatter_Coefficient_Uncertainty_532': (('fakeDim81',\n",
       "   'fakeDim82'),\n",
       "  (3712, 399),\n",
       "  5,\n",
       "  39),\n",
       " 'Particulate_Depolarization_Ratio_Profile_532': (('fakeDim83', 'fakeDim84'),\n",
       "  (3712, 399),\n",
       "  5,\n",
       "  40),\n",
       " 'Particulate_Depolarization_Ratio_Uncertainty_532': (('fakeDim85',\n",
       "   'fakeDim86'),\n",
       "  (3712, 399),\n",
       "  5,\n",
       "  41),\n",
       " 'Extinction_Coefficient_532': (('fakeDim87', 'fakeDim88'),\n",
       "  (3712, 399),\n",
       "  5,\n",
       "  42),\n",
       " 'Extinction_Coefficient_Uncertainty_532': (('fakeDim89', 'fakeDim90'),\n",
       "  (3712, 399),\n",
       "  5,\n",
       "  43),\n",
       " 'Cloud_Multiple_Scattering_Profile_532': (('fakeDim91', 'fakeDim92'),\n",
       "  (3712, 399),\n",
       "  5,\n",
       "  44),\n",
       " 'Ice_Water_Content_Profile': (('fakeDim93', 'fakeDim94'), (3712, 399), 5, 45),\n",
       " 'Ice_Water_Content_Profile_Uncertainty': (('fakeDim95', 'fakeDim96'),\n",
       "  (3712, 399),\n",
       "  5,\n",
       "  46),\n",
       " 'Surface_Top_Altitude_532': (('fakeDim97', 'fakeDim98'), (3712, 1), 5, 47),\n",
       " 'Surface_Base_Altitude_532': (('fakeDim99', 'fakeDim100'), (3712, 1), 5, 48),\n",
       " 'Surface_Integrated_Attenuated_Backscatter_532': (('fakeDim101',\n",
       "   'fakeDim102'),\n",
       "  (3712, 1),\n",
       "  5,\n",
       "  49),\n",
       " 'Surface_532_Integrated_Depolarization_Ratio': (('fakeDim103', 'fakeDim104'),\n",
       "  (3712, 1),\n",
       "  5,\n",
       "  50),\n",
       " 'Surface_532_Integrated_Attenuated_Color_Ratio': (('fakeDim105',\n",
       "   'fakeDim106'),\n",
       "  (3712, 1),\n",
       "  5,\n",
       "  51),\n",
       " 'Surface_Detection_Flags_532': (('fakeDim107', 'fakeDim108'),\n",
       "  (3712, 1),\n",
       "  23,\n",
       "  52),\n",
       " 'Surface_Detection_Confidence_532': (('fakeDim109', 'fakeDim110'),\n",
       "  (3712, 1),\n",
       "  5,\n",
       "  53),\n",
       " 'Surface_Overlying_Integrated_Attenuated_Backscatter_532': (('fakeDim111',\n",
       "   'fakeDim112'),\n",
       "  (3712, 1),\n",
       "  5,\n",
       "  54),\n",
       " 'Surface_Scaled_RMS_Background_532': (('fakeDim113', 'fakeDim114'),\n",
       "  (3712, 1),\n",
       "  5,\n",
       "  55),\n",
       " 'Surface_Peak_Signal_532': (('fakeDim115', 'fakeDim116'), (3712, 1), 5, 56),\n",
       " 'Surface_Detections_333m_532': (('fakeDim117', 'fakeDim118'),\n",
       "  (3712, 1),\n",
       "  22,\n",
       "  57),\n",
       " 'Surface_Detections_1km_532': (('fakeDim119', 'fakeDim120'),\n",
       "  (3712, 1),\n",
       "  22,\n",
       "  58),\n",
       " 'Surface_Top_Altitude_1064': (('fakeDim121', 'fakeDim122'), (3712, 1), 5, 59),\n",
       " 'Surface_Base_Altitude_1064': (('fakeDim123', 'fakeDim124'),\n",
       "  (3712, 1),\n",
       "  5,\n",
       "  60),\n",
       " 'Surface_Integrated_Attenuated_Backscatter_1064': (('fakeDim125',\n",
       "   'fakeDim126'),\n",
       "  (3712, 1),\n",
       "  5,\n",
       "  61),\n",
       " 'Surface_1064_Integrated_Depolarization_Ratio': (('fakeDim127', 'fakeDim128'),\n",
       "  (3712, 1),\n",
       "  5,\n",
       "  62),\n",
       " 'Surface_1064_Integrated_Attenuated_Color_Ratio': (('fakeDim129',\n",
       "   'fakeDim130'),\n",
       "  (3712, 1),\n",
       "  5,\n",
       "  63),\n",
       " 'Surface_Detection_Flags_1064': (('fakeDim131', 'fakeDim132'),\n",
       "  (3712, 1),\n",
       "  23,\n",
       "  64),\n",
       " 'Surface_Detection_Confidence_1064': (('fakeDim133', 'fakeDim134'),\n",
       "  (3712, 1),\n",
       "  5,\n",
       "  65),\n",
       " 'Surface_Overlying_Integrated_Attenuated_Backscatter_1064': (('fakeDim135',\n",
       "   'fakeDim136'),\n",
       "  (3712, 1),\n",
       "  5,\n",
       "  66),\n",
       " 'Surface_Scaled_RMS_Background_1064': (('fakeDim137', 'fakeDim138'),\n",
       "  (3712, 1),\n",
       "  5,\n",
       "  67),\n",
       " 'Surface_Peak_Signal_1064': (('fakeDim139', 'fakeDim140'), (3712, 1), 5, 68),\n",
       " 'Surface_Detections_333m_1064': (('fakeDim141', 'fakeDim142'),\n",
       "  (3712, 1),\n",
       "  22,\n",
       "  69),\n",
       " 'Surface_Detections_1km_1064': (('fakeDim143', 'fakeDim144'),\n",
       "  (3712, 1),\n",
       "  22,\n",
       "  70)}"
      ]
     },
     "execution_count": 4,
     "metadata": {},
     "output_type": "execute_result"
    }
   ],
   "source": [
    "pfile.datasets()"
   ]
  },
  {
   "cell_type": "code",
   "execution_count": 5,
   "id": "059c50fb",
   "metadata": {},
   "outputs": [],
   "source": [
    "plat = pfile.select('Latitude').get()\n",
    "plon = pfile.select('Longitude').get()\n",
    "\n",
    "vlat = vfile.select('Latitude').get()\n",
    "vlon = vfile.select('Longitude').get()"
   ]
  },
  {
   "cell_type": "code",
   "execution_count": 6,
   "id": "3270e68f",
   "metadata": {},
   "outputs": [],
   "source": [
    "plat_nidx = np.where(plat[:,1]<-37)[0][0]\n",
    "plat_sidx = np.where(plat[:,1]>-70)[0][-1]"
   ]
  },
  {
   "cell_type": "code",
   "execution_count": 7,
   "id": "2a76a630",
   "metadata": {},
   "outputs": [
    {
     "data": {
      "image/png": "[encoded data removed]",
      "text/plain": [
       "<Figure size 432x288 with 1 Axes>"
      ]
     },
     "metadata": {
      "needs_background": "light"
     },
     "output_type": "display_data"
    }
   ],
   "source": [
    "fig = plt.figure()\n",
    "ax = fig.add_subplot(1,1,1,projection=ccrs.PlateCarree())\n",
    "\n",
    "ax.coastlines()\n",
    "ax.plot(vlon[plat_nidx:plat_sidx],vlat[plat_nidx:plat_sidx],transform=ccrs.PlateCarree())\n",
    "ax.set_extent([-180,180,-90,90])"
   ]
  },
  {
   "cell_type": "code",
   "execution_count": 8,
   "id": "495a0057",
   "metadata": {},
   "outputs": [],
   "source": [
    "temp = pfile.select('Temperature').get()"
   ]
  },
  {
   "cell_type": "code",
   "execution_count": 9,
   "id": "65560d0c",
   "metadata": {},
   "outputs": [],
   "source": [
    "no = np.arange(plat_nidx,plat_sidx,1)"
   ]
  },
  {
   "cell_type": "code",
   "execution_count": 10,
   "id": "0a56085b",
   "metadata": {},
   "outputs": [
    {
     "data": {
      "text/plain": [
       "numpy.ndarray"
      ]
     },
     "execution_count": 10,
     "metadata": {},
     "output_type": "execute_result"
    }
   ],
   "source": [
    "type(temp)"
   ]
  },
  {
   "cell_type": "code",
   "execution_count": 11,
   "id": "df11867e",
   "metadata": {},
   "outputs": [],
   "source": [
    "test = temp[plat_nidx:plat_sidx,55:]"
   ]
  },
  {
   "cell_type": "code",
   "execution_count": 12,
   "id": "87f38ccb",
   "metadata": {},
   "outputs": [],
   "source": [
    "test[test<-100]=np.nan"
   ]
  },
  {
   "cell_type": "code",
   "execution_count": 13,
   "id": "c2490bf9",
   "metadata": {},
   "outputs": [],
   "source": [
    "test = test.transpose()"
   ]
  },
  {
   "cell_type": "code",
   "execution_count": 88,
   "id": "b94de313",
   "metadata": {},
   "outputs": [],
   "source": [
    "no = np.arange(1,759,1)*5\n",
    "hgts = np.arange(20.1,-0.5,-0.06)"
   ]
  },
  {
   "cell_type": "code",
   "execution_count": 89,
   "id": "4612507d",
   "metadata": {},
   "outputs": [
    {
     "data": {
      "image/png": "[encoded data removed]",
      "text/plain": [
       "<Figure size 432x288 with 2 Axes>"
      ]
     },
     "metadata": {
      "needs_background": "light"
     },
     "output_type": "display_data"
    }
   ],
   "source": [
    "fig = plt.figure()\n",
    "ax = fig.add_subplot(1,1,1)\n",
    "levs = np.arange(-40,5,5)\n",
    "\n",
    "im = ax.contourf(plat[plat_nidx:plat_sidx,1],hgts,test,levels=levs,extend='both')\n",
    "cb = plt.colorbar(im,orientation='vertical')\n",
    "\n",
    "ax.set_xlabel('Latitude ($\\degree$)')\n",
    "\n",
    "plt.show()"
   ]
  },
  {
   "cell_type": "markdown",
   "id": "1f320b42",
   "metadata": {},
   "source": [
    "#### Vertical features (supercooled cloud fraction)"
   ]
  },
  {
   "cell_type": "code",
   "execution_count": 16,
   "id": "72a88881",
   "metadata": {},
   "outputs": [
    {
     "data": {
      "text/plain": [
       "{'Latitude': (('fakeDim0', 'fakeDim1'), (3712, 1), 5, 0),\n",
       " 'Longitude': (('fakeDim2', 'fakeDim3'), (3712, 1), 5, 1),\n",
       " 'Profile_Time': (('fakeDim4', 'fakeDim5'), (3712, 1), 6, 2),\n",
       " 'Profile_UTC_Time': (('fakeDim6', 'fakeDim7'), (3712, 1), 6, 3),\n",
       " 'Day_Night_Flag': (('fakeDim8', 'fakeDim9'), (3712, 1), 23, 4),\n",
       " 'Land_Water_Mask': (('fakeDim10', 'fakeDim11'), (3712, 1), 20, 5),\n",
       " 'Spacecraft_Position': (('fakeDim12', 'fakeDim13'), (3712, 3), 6, 6),\n",
       " 'Feature_Classification_Flags': (('fakeDim14', 'fakeDim15'),\n",
       "  (3712, 5515),\n",
       "  23,\n",
       "  7)}"
      ]
     },
     "execution_count": 16,
     "metadata": {},
     "output_type": "execute_result"
    }
   ],
   "source": [
    "vfile.datasets()"
   ]
  },
  {
   "cell_type": "code",
   "execution_count": 17,
   "id": "2f3a0be5",
   "metadata": {},
   "outputs": [],
   "source": [
    "vfile_fcf = vfile.select('Feature_Classification_Flags').get()[plat_nidx:plat_sidx,:]"
   ]
  },
  {
   "cell_type": "code",
   "execution_count": 18,
   "id": "ba99bada",
   "metadata": {
    "scrolled": true
   },
   "outputs": [
    {
     "data": {
      "text/plain": [
       "(758, 5515)"
      ]
     },
     "execution_count": 18,
     "metadata": {},
     "output_type": "execute_result"
    }
   ],
   "source": [
    "vfile_fcf.shape"
   ]
  },
  {
   "cell_type": "code",
   "execution_count": 22,
   "id": "accf510b",
   "metadata": {},
   "outputs": [],
   "source": [
    "vfile0 = vfile_fcf[200,:]\n",
    "vfile0_bits = []\n",
    "\n",
    "for i in range(0,len(vfile0),1):\n",
    "    val = vfile0[i]\n",
    "    bin_ = bin(val)[2:].zfill(16)\n",
    "    \n",
    "    #Feature type\n",
    "    ft = int(bin_[13:16],2)\n",
    "    \n",
    "    #Feature type QA\n",
    "    ftqa = int(bin_[11:13],2)\n",
    "    \n",
    "    #Ice/Water phase\n",
    "    ph = int(bin_[9:11],2)\n",
    "    \n",
    "    #Ice/water phase QA\n",
    "    phqa = int(bin_[7:9],2)\n",
    "    \n",
    "    #Feature sub-type\n",
    "    fst = int(bin_[4:7],2)\n",
    "    \n",
    "    #Feature sub-type QA\n",
    "    fstqa = int(bin_[3],2)\n",
    "    \n",
    "    #Horizontal averaging required for detection (provides a coarse measure of feature backscatter intensity)\n",
    "    ha = int(bin_[0:3],2)\n",
    "    \n",
    "    strg = str(ft) + str(ftqa) + str(ph) + str(phqa) + str(fst) + str(fstqa) + str(ha)\n",
    "    \n",
    "    vfile0_bits.append(strg)"
   ]
  },
  {
   "cell_type": "code",
   "execution_count": 284,
   "id": "694b9294",
   "metadata": {},
   "outputs": [
    {
     "name": "stdout",
     "output_type": "stream",
     "text": [
      "30 0\n",
      "30 0\n",
      "30 0\n",
      "30 0\n",
      "30 0\n",
      "30 0\n",
      "30 0\n",
      "30 0\n",
      "30 0\n",
      "30 0\n",
      "30 0\n",
      "30 0\n",
      "30 0\n",
      "30 0\n",
      "30 0\n",
      "30 0\n",
      "30 0\n",
      "30 0\n",
      "30 0\n",
      "30 0\n",
      "30 0\n",
      "30 0\n",
      "30 0\n",
      "30 0\n",
      "30 0\n",
      "30 0\n",
      "30 0\n",
      "30 0\n",
      "30 0\n",
      "30 0\n",
      "30 0\n",
      "30 0\n",
      "30 0\n",
      "30 0\n",
      "30 0\n",
      "30 0\n",
      "30 0\n",
      "30 0\n",
      "30 0\n",
      "30 0\n",
      "30 0\n",
      "30 0\n",
      "30 0\n",
      "30 0\n",
      "30 0\n",
      "30 0\n",
      "30 0\n",
      "30 0\n",
      "30 0\n",
      "30 0\n",
      "30 0\n",
      "30 0\n",
      "30 0\n",
      "30 0\n",
      "30 0\n",
      "30 0\n",
      "30 0\n",
      "30 0\n",
      "30 0\n",
      "30 0\n",
      "30 0\n",
      "30 0\n",
      "30 0\n",
      "30 0\n",
      "30 0\n",
      "30 0\n",
      "30 0\n",
      "30 0\n",
      "30 0\n",
      "30 0\n",
      "30 0\n",
      "30 0\n",
      "30 0\n",
      "30 0\n",
      "30 0\n",
      "30 0\n",
      "30 0\n",
      "30 0\n",
      "30 0\n",
      "30 0\n",
      "30 0\n",
      "30 0\n",
      "30 0\n",
      "30 0\n",
      "30 0\n",
      "30 0\n",
      "30 0\n",
      "15 0\n",
      "0 0\n",
      "0 0\n",
      "0 0\n",
      "0 0\n",
      "0 0\n",
      "0 0\n",
      "0 0\n",
      "0 0\n",
      "0 0\n",
      "0 0\n",
      "0 0\n",
      "0 0\n",
      "0 0\n",
      "0 0\n",
      "0 0\n",
      "0 0\n",
      "0 0\n",
      "0 0\n",
      "0 0\n",
      "0 0\n",
      "0 0\n",
      "0 0\n",
      "0 0\n",
      "0 0\n",
      "0 0\n",
      "0 0\n",
      "0 0\n",
      "0 0\n",
      "0 0\n",
      "0 0\n",
      "0 0\n",
      "0 0\n",
      "0 0\n",
      "0 0\n",
      "0 0\n",
      "6 18\n",
      "16 6\n",
      "16 6\n",
      "18 4\n",
      "10 17\n",
      "0 30\n",
      "0 0\n",
      "0 0\n",
      "0 0\n",
      "0 0\n",
      "0 0\n",
      "0 0\n",
      "0 0\n",
      "0 0\n",
      "0 0\n",
      "0 0\n",
      "0 0\n",
      "0 0\n",
      "0 0\n",
      "0 0\n",
      "0 0\n",
      "0 0\n"
     ]
    }
   ],
   "source": [
    "for i in range(0,len(slf_layer),1):\n",
    "    \n",
    "    phase = []\n",
    "    cloud_type = []\n",
    "    \n",
    "    for j in range(0,len(col_start),1):\n",
    "        \n",
    "        top_idx = col_start[j] + col_itv[i]\n",
    "        bot_idx = col_start[j] + col_itv[i] + 1\n",
    "        \n",
    "        f_str_top = vfile0_bits[top_idx]\n",
    "        f_str_bot = vfile0_bits[bot_idx]\n",
    "        \n",
    "        #Check if this profile is related to clouds\n",
    "        if int(f_str_top[0]) == 2: #clouds + medium or higher confidence level\n",
    "            p_top = int(f_str_top[2]) #Ice/water phase\n",
    "            if int(f_str_top[5]) == 1: # Cloud sub-type\n",
    "                ct_top = int(f_str_top[4])\n",
    "            else:\n",
    "                ct_top = np.nan\n",
    "        else:\n",
    "            p_top = np.nan\n",
    "            ct_top = np.nan\n",
    "            \n",
    "        phase.append(p_top)\n",
    "        cloud_type.append(ct_top)\n",
    "        \n",
    "        #To average between different resolutions (30m -> 60m)\n",
    "        if int(f_str_bot[0]) == 2: #clouds + medium or higher confidence level\n",
    "            p_bot = int(f_str_bot[2]) #Ice/water phase\n",
    "            if int(f_str_bot[5]) == 1: # Cloud sub-type\n",
    "                ct_bot = int(f_str_bot[4])\n",
    "            else:\n",
    "                ct_bot = np.nan\n",
    "        else:\n",
    "            p_bot = np.nan\n",
    "            ct_bot = np.nan\n",
    "            \n",
    "        phase.append(p_bot)\n",
    "        cloud_type.append(ct_bot)\n",
    "        \n",
    "    ice_c = 0\n",
    "    water_c = 0 \n",
    "    \n",
    "    for m in range(0,len(phase),1):\n",
    "        if phase[m] == 1 or phase[m] == 3:\n",
    "            ice_c += 1\n",
    "        if phase[m] == 2:\n",
    "            water_c += 1\n",
    "        else:\n",
    "            pass\n",
    "    \n",
    "    if ice_c + water_c == 0:\n",
    "        slf_layer[i] = np.nan\n",
    "    else:\n",
    "        slf = water_c/(ice_c + water_c)\n",
    "        slf_layer[i] = slf\n",
    "    \n",
    "    print(ice_c,water_c)"
   ]
  },
  {
   "cell_type": "code",
   "execution_count": 296,
   "id": "d3b14af0",
   "metadata": {},
   "outputs": [
    {
     "data": {
      "image/png": "[encoded data removed]",
      "text/plain": [
       "<Figure size 432x288 with 1 Axes>"
      ]
     },
     "metadata": {
      "needs_background": "light"
     },
     "output_type": "display_data"
    }
   ],
   "source": [
    "fig = plt.figure()\n",
    "ax = fig.add_subplot(1,1,1)\n",
    "\n",
    "for k in range(0,758,1):\n",
    "    vfile = vfile_fcf[k,:]\n",
    "    vfile_bits = []\n",
    "\n",
    "    for m in range(0,len(vfile),1):\n",
    "        val = vfile[m]\n",
    "        bin_ = bin(val)[2:].zfill(16)\n",
    "    \n",
    "        #Feature type\n",
    "        ft = int(bin_[13:16],2)\n",
    "    \n",
    "        #Feature type QA\n",
    "        ftqa = int(bin_[11:13],2)\n",
    "    \n",
    "        #Ice/Water phase\n",
    "        ph = int(bin_[9:11],2)\n",
    "    \n",
    "        #Ice/water phase QA\n",
    "        phqa = int(bin_[7:9],2)\n",
    "    \n",
    "        #Feature sub-type\n",
    "        fst = int(bin_[4:7],2)\n",
    "    \n",
    "        #Feature sub-type QA\n",
    "        fstqa = int(bin_[3],2)\n",
    "    \n",
    "        #Horizontal averaging required for detection (provides a coarse measure of feature backscatter intensity)\n",
    "        ha = int(bin_[0:3],2)\n",
    "    \n",
    "        strg = str(ft) + str(ftqa) + str(ph) + str(phqa) + str(fst) + str(fstqa) + str(ha)\n",
    "    \n",
    "        vfile_bits.append(strg)\n",
    "    \n",
    "    col_start = np.arange(1165,5226,290)\n",
    "    col_itv = np.arange(0,289,2)\n",
    "    slf_layer = np.empty([145])\n",
    "    \n",
    "    for i in range(0,len(slf_layer),1):\n",
    "    \n",
    "        phase = []\n",
    "        cloud_type = []\n",
    "    \n",
    "        for j in range(0,len(col_start),1):\n",
    "        \n",
    "            top_idx = col_start[j] + col_itv[i]\n",
    "            bot_idx = col_start[j] + col_itv[i] + 1\n",
    "        \n",
    "            f_str_top = vfile_bits[top_idx]\n",
    "            f_str_bot = vfile_bits[bot_idx]\n",
    "        \n",
    "            #Check if this profile is related to clouds\n",
    "            if int(f_str_top[0]) == 2 and int(f_str_top[1]) == 3 and int(f_str_top[3]) == 3: #clouds + medium or higher confidence level\n",
    "                p_top = int(f_str_top[2]) #Ice/water phase\n",
    "                if int(f_str_top[5]) == 1: # Cloud sub-type\n",
    "                    ct_top = int(f_str_top[4])\n",
    "                else:\n",
    "                    ct_top = np.nan\n",
    "            else:\n",
    "                p_top = np.nan\n",
    "                ct_top = np.nan\n",
    "            \n",
    "            phase.append(p_top)\n",
    "            cloud_type.append(ct_top)\n",
    "        \n",
    "            #To average between different resolutions (30m -> 60m)\n",
    "            if int(f_str_bot[0]) == 2 and int(f_str_bot[1]) == 3 and int(f_str_bot[3]) == 3: #clouds + medium or higher confidence level\n",
    "                p_bot = int(f_str_bot[2]) #Ice/water phase\n",
    "                if int(f_str_bot[5]) == 1: # Cloud sub-type\n",
    "                    ct_bot = int(f_str_bot[4])\n",
    "                else:\n",
    "                    ct_bot = np.nan\n",
    "            else:\n",
    "                p_bot = np.nan\n",
    "                ct_bot = np.nan\n",
    "            \n",
    "            phase.append(p_bot)\n",
    "            cloud_type.append(ct_bot)\n",
    "        \n",
    "        ice_c = 0\n",
    "        water_c = 0 \n",
    "    \n",
    "        for n in range(0,len(phase),1):\n",
    "            if phase[n] == 1 or phase[n] == 3:\n",
    "                ice_c += 1\n",
    "            if phase[n] == 2:\n",
    "                water_c += 1\n",
    "            else:\n",
    "                pass\n",
    "    \n",
    "        if ice_c + water_c <= 15:\n",
    "            slf_layer[i] = np.nan\n",
    "        else:\n",
    "            slf = water_c/(ice_c + water_c)\n",
    "            slf_layer[i] = slf\n",
    "    \n",
    "    ctemp = test[:,k]\n",
    "    ax.scatter(ctemp[hgts<=8.2],slf_layer)"
   ]
  },
  {
   "cell_type": "markdown",
   "id": "d32a50c6",
   "metadata": {},
   "source": [
    "Slide show"
   ]
  },
  {
   "cell_type": "code",
   "execution_count": 26,
   "id": "890e80c7",
   "metadata": {},
   "outputs": [],
   "source": [
    "low_atm = np.empty([290,15])"
   ]
  },
  {
   "cell_type": "code",
   "execution_count": 28,
   "id": "a8859299",
   "metadata": {},
   "outputs": [
    {
     "name": "stdout",
     "output_type": "stream",
     "text": [
      "(15,)\n"
     ]
    }
   ],
   "source": [
    "col_start = np.arange(1165,5226,290)\n",
    "print(col_start.shape)"
   ]
  },
  {
   "cell_type": "code",
   "execution_count": 29,
   "id": "9bc3d51d",
   "metadata": {},
   "outputs": [],
   "source": [
    "for i in range(0,len(col_start),1):\n",
    "    for j in range(0,290,1):\n",
    "        idx = col_start[i] + j\n",
    "        p_ft = vfile0_bits[idx][0]\n",
    "        low_atm[j,i] = p_ft"
   ]
  },
  {
   "cell_type": "code",
   "execution_count": 32,
   "id": "3f6961fd",
   "metadata": {},
   "outputs": [
    {
     "name": "stdout",
     "output_type": "stream",
     "text": [
      "(290,)\n"
     ]
    }
   ],
   "source": [
    "hgts = np.arange(-0.5, 8.2,0.03)\n",
    "print(hgts.shape)"
   ]
  },
  {
   "cell_type": "code",
   "execution_count": 35,
   "id": "97455639",
   "metadata": {},
   "outputs": [
    {
     "name": "stdout",
     "output_type": "stream",
     "text": [
      "(15,)\n"
     ]
    }
   ],
   "source": [
    "distance = np.arange(0,4.9,0.333)\n",
    "print(distance.shape)"
   ]
  },
  {
   "cell_type": "code",
   "execution_count": 41,
   "id": "ee32374b",
   "metadata": {},
   "outputs": [
    {
     "data": {
      "image/png": "[encoded data removed]",
      "text/plain": [
       "<Figure size 432x288 with 2 Axes>"
      ]
     },
     "metadata": {
      "needs_background": "light"
     },
     "output_type": "display_data"
    }
   ],
   "source": [
    "fig = plt.figure()\n",
    "ax = fig.add_subplot(1,1,1)\n",
    "levs = np.arange(-0.5,8.5,1)\n",
    "\n",
    "im = ax.contourf(distance,hgts,low_atm,levels=levs,cmap='rainbow')\n",
    "cb = plt.colorbar(im, orientation='horizontal')"
   ]
  },
  {
   "cell_type": "code",
   "execution_count": 44,
   "id": "a5e9a4c1",
   "metadata": {},
   "outputs": [
    {
     "data": {
      "text/plain": [
       "758"
      ]
     },
     "execution_count": 44,
     "metadata": {},
     "output_type": "execute_result"
    }
   ],
   "source": [
    "len(vfile_fcf)"
   ]
  },
  {
   "cell_type": "code",
   "execution_count": 72,
   "id": "1241a7be",
   "metadata": {},
   "outputs": [
    {
     "name": "stderr",
     "output_type": "stream",
     "text": [
      "C:\\Users\\Xinyi\\AppData\\Local\\Temp\\ipykernel_23760\\2802366140.py:44: FutureWarning: elementwise comparison failed; returning scalar instead, but in the future will perform elementwise comparison\n",
      "  if p_ftqa in np.arange(2,5,1) and p_ftqa < 2:\n"
     ]
    }
   ],
   "source": [
    "atm_ft = np.empty([290,15*len(vfile_fcf)])\n",
    "\n",
    "for m in range(0,len(vfile_fcf),1):\n",
    "    \n",
    "    vfile0 = vfile_fcf[m,:]\n",
    "    vfile0_bits = []\n",
    "    low_atm = np.empty([290,15])\n",
    "\n",
    "    for n in range(0,len(vfile0),1):\n",
    "        val = vfile0[n]\n",
    "        bin_ = bin(val)[2:].zfill(16)\n",
    "    \n",
    "        #Feature type\n",
    "        ft = int(bin_[13:16],2)\n",
    "    \n",
    "        #Feature type QA\n",
    "        ftqa = int(bin_[11:13],2)\n",
    "    \n",
    "        #Ice/Water phase\n",
    "        ph = int(bin_[9:11],2)\n",
    "    \n",
    "        #Ice/water phase QA\n",
    "        phqa = int(bin_[7:9],2)\n",
    "    \n",
    "        #Feature sub-type\n",
    "        fst = int(bin_[4:7],2)\n",
    "    \n",
    "        #Feature sub-type QA\n",
    "        fstqa = int(bin_[3],2)\n",
    "    \n",
    "        #Horizontal averaging required for detection (provides a coarse measure of feature backscatter intensity)\n",
    "        ha = int(bin_[0:3],2)\n",
    "    \n",
    "        strg = str(ft) + str(ftqa) + str(ph) + str(phqa) + str(fst) + str(fstqa) + str(ha)\n",
    "    \n",
    "        vfile0_bits.append(strg)\n",
    "    \n",
    "    for i in range(0,len(col_start),1):\n",
    "        for j in range(0,290,1):\n",
    "            idx = col_start[i] + j\n",
    "            p_ft = vfile0_bits[idx][0]\n",
    "            p_ftqa = vfile0_bits[idx][1]\n",
    "            \n",
    "            if p_ftqa in np.arange(2,5,1) and p_ftqa < 2:\n",
    "                low_atm[j,i] = np.nan\n",
    "            else:\n",
    "                low_atm[j,i] = p_ft\n",
    "                \n",
    "    \n",
    "    atm_ft[:,15*m:15*(m+1)] = low_atm"
   ]
  },
  {
   "cell_type": "code",
   "execution_count": 73,
   "id": "d117949b",
   "metadata": {},
   "outputs": [
    {
     "data": {
      "text/plain": [
       "(290, 11370)"
      ]
     },
     "execution_count": 73,
     "metadata": {},
     "output_type": "execute_result"
    }
   ],
   "source": [
    "atm_ft.shape"
   ]
  },
  {
   "cell_type": "code",
   "execution_count": 47,
   "id": "815c6cfe",
   "metadata": {},
   "outputs": [],
   "source": [
    "distance = np.arange(0,11370,1)"
   ]
  },
  {
   "cell_type": "code",
   "execution_count": 49,
   "id": "7db27634",
   "metadata": {},
   "outputs": [
    {
     "data": {
      "text/plain": [
       "(11370,)"
      ]
     },
     "execution_count": 49,
     "metadata": {},
     "output_type": "execute_result"
    }
   ],
   "source": [
    "distance.shape"
   ]
  },
  {
   "cell_type": "code",
   "execution_count": 50,
   "id": "7beb92c7",
   "metadata": {},
   "outputs": [
    {
     "data": {
      "text/plain": [
       "(290,)"
      ]
     },
     "execution_count": 50,
     "metadata": {},
     "output_type": "execute_result"
    }
   ],
   "source": [
    "hgts.shape"
   ]
  },
  {
   "cell_type": "code",
   "execution_count": 85,
   "id": "865b8257",
   "metadata": {},
   "outputs": [
    {
     "data": {
      "image/png": "[encoded data removed]",
      "text/plain": [
       "<Figure size 432x288 with 2 Axes>"
      ]
     },
     "metadata": {
      "needs_background": "light"
     },
     "output_type": "display_data"
    }
   ],
   "source": [
    "fig = plt.figure()\n",
    "ax = fig.add_subplot(1,1,1)\n",
    "levs = np.arange(-0.5,8.5,1)\n",
    "\n",
    "im = ax.contourf(lats,hgts,atm_ft,levels=levs,cmap='Set3')\n",
    "ax.xaxis_inverted()\n",
    "\n",
    "\n",
    "cb = plt.colorbar(im, orientation='vertical')\n",
    "cb.set_ticks(np.arange(0,8,1))\n",
    "cb.set_ticklabels(['invalid','clear air','cloud','tropospheric aerosol','stratospheric aerosol','surface','subsurface','no signal'])"
   ]
  },
  {
   "cell_type": "code",
   "execution_count": 60,
   "id": "868a235e",
   "metadata": {},
   "outputs": [
    {
     "data": {
      "text/plain": [
       "-37.00233"
      ]
     },
     "execution_count": 60,
     "metadata": {},
     "output_type": "execute_result"
    }
   ],
   "source": [
    "plat[plat_nidx:plat_sidx,1].max()"
   ]
  },
  {
   "cell_type": "code",
   "execution_count": 61,
   "id": "04454273",
   "metadata": {},
   "outputs": [
    {
     "data": {
      "text/plain": [
       "-69.927475"
      ]
     },
     "execution_count": 61,
     "metadata": {},
     "output_type": "execute_result"
    }
   ],
   "source": [
    "plat[plat_nidx:plat_sidx,1].min()"
   ]
  },
  {
   "cell_type": "code",
   "execution_count": 59,
   "id": "1ff732d1",
   "metadata": {},
   "outputs": [
    {
     "data": {
      "text/plain": [
       "11370"
      ]
     },
     "execution_count": 59,
     "metadata": {},
     "output_type": "execute_result"
    }
   ],
   "source": [
    "758*15"
   ]
  },
  {
   "cell_type": "code",
   "execution_count": 81,
   "id": "b6c65797",
   "metadata": {},
   "outputs": [],
   "source": [
    "lats = np.arange(37.00233,69.927475,-(37.00233-69.927475)/11370)"
   ]
  },
  {
   "cell_type": "code",
   "execution_count": 82,
   "id": "699ad8ec",
   "metadata": {},
   "outputs": [
    {
     "data": {
      "text/plain": [
       "(11370,)"
      ]
     },
     "execution_count": 82,
     "metadata": {},
     "output_type": "execute_result"
    }
   ],
   "source": [
    "lats.shape"
   ]
  },
  {
   "cell_type": "code",
   "execution_count": null,
   "id": "01903c59",
   "metadata": {},
   "outputs": [],
   "source": []
  }
 ],
 "metadata": {
  "kernelspec": {
   "display_name": "Python 3 (ipykernel)",
   "language": "python",
   "name": "python3"
  },
  "language_info": {
   "codemirror_mode": {
    "name": "ipython",
    "version": 3
   },
   "file_extension": ".py",
   "mimetype": "text/x-python",
   "name": "python",
   "nbconvert_exporter": "python",
   "pygments_lexer": "ipython3",
   "version": "3.10.8"
  }
 },
 "nbformat": 4,
 "nbformat_minor": 5
}
